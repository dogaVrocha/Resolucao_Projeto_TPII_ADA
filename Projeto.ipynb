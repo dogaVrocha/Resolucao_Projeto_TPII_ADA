{
 "cells": [
  {
   "cell_type": "markdown",
   "metadata": {},
   "source": [
    "''' Resolução do Projeto '''\n",
    "\n",
    "## Desafio 1. Simulação de dados\n",
    "Crie uma função que simule o lançamento de dois dados de seis lados (valores de 1 a 6). Esta função deve retornar a soma dos resultados dos dados. \n"
   ]
  },
  {
   "cell_type": "code",
   "execution_count": 58,
   "metadata": {},
   "outputs": [],
   "source": [
    "# Setup\n",
    "import numpy as np"
   ]
  },
  {
   "cell_type": "markdown",
   "metadata": {},
   "source": [
    "## A função abaixo:\n",
    "1. Cria os dois dados com o método np.arange\n",
    "2. Define um padrão de simulação para o método random\n",
    "3. Lança separadamente cada um dos dados\n",
    "4. Retorna a soma dos dados"
   ]
  },
  {
   "cell_type": "code",
   "execution_count": 57,
   "metadata": {},
   "outputs": [
    {
     "data": {
      "text/plain": [
       "array([10])"
      ]
     },
     "execution_count": 57,
     "metadata": {},
     "output_type": "execute_result"
    }
   ],
   "source": [
    "def simular_dados():\n",
    "    dado_1 = np.arange(1, 7, 1)\n",
    "    dado_2 = np.arange(1, 7, 1)\n",
    "    np.random.seed(1)\n",
    "    number_1 = np.random.choice(dado_1, size = 1)     \n",
    "    number_2 = np.random.choice(dado_2, size = 1)\n",
    "    soma = np.array(number_1 + number_2)\n",
    "    return soma\n",
    "simular_dados()"
   ]
  },
  {
   "cell_type": "markdown",
   "metadata": {},
   "source": [
    "**Desafio 2: Múltiplas Simulações**\n",
    "Use a função do passo 1 para simular um grande número de jogos de dados (digamos, 1000 jogos). Armazene o resultado de cada jogo em um array NumPy."
   ]
  },
  {
   "cell_type": "markdown",
   "metadata": {},
   "source": [
    "**Resolução Desafio 2**\n",
    "\n",
    "1. Atualizei o parâmetro da miha função para permitir ao usuário da função definir quantas vezes pretende lançar o dado, através do parâmetro opcional tamanho, que quando não é passado, é definido pelo inteiro 1\n",
    "2. Além disso, após lançar cada um dos dados tamanho vezes (no exemplo 1000), armazenei a soma de cada jogo na variável arr_multiplo\n",
    "3. Em seguida, atualizei o retorno da função para retornar a variável arr_multiplo\n",
    "4. Por fim, armazenei meus resultados da simulação de 1000 lançamentos na variável arr_1000"
   ]
  },
  {
   "cell_type": "code",
   "execution_count": 56,
   "metadata": {},
   "outputs": [],
   "source": [
    "def simular_dados_atualizada(tamanho = 1):\n",
    "    dado_1 = np.arange(1, 7, 1)\n",
    "    dado_2 = np.arange(1, 7, 1)\n",
    "    np.random.seed(1)\n",
    "    number_1 = np.random.choice(dado_1, size = tamanho)    \n",
    "    number_2 = np.random.choice(dado_2, size = tamanho)\n",
    "    arr_multiplo = np.array(number_1 + number_2)\n",
    "    return arr_multiplo\n",
    "\n",
    "arr_1000 = simular_dados_atualizada(1000)"
   ]
  },
  {
   "cell_type": "code",
   "execution_count": 55,
   "metadata": {},
   "outputs": [
    {
     "name": "stdout",
     "output_type": "stream",
     "text": [
      "[12  9 10  5  6  7  7  7  4  7 10  8  8  5  7 11 12  5 10  8  9  9 10  8\n",
      "  4  8  3  6  4 10  8  4 10  5  6  2  6  7  2  4  9  5  7  5  5  9  8  6\n",
      "  5  9  7  4  6  6 11  9  8  3 11  8  3  9  4  8  8  7  9  7  5  7 10  8\n",
      "  8  7 11  6  5  4  7  6  7  6  9  8  9  4  6  5  7  9  5  2  7  9 11  9\n",
      "  7  8  9  9 11 10  8  2  8 11  8 11  8 10  6  4  6 10  9  2 10  5 11  7\n",
      "  7  3  5  9 10  5  9  7 11  7  2  6  8  7  7 10 10  8  6  5  3  8  6  4\n",
      " 11  4  7  6  4  8  9  4  4  5  8  8  8  2 12  6  8  7  5  3  7  5  7  9\n",
      "  8  7 10 12  2  7  6 10  5  7 12  8  8 11  7 12  4 10  9  4  8 12  4  7\n",
      "  5  8  5  7  5  6  8  6  9  5 10 12  9  4  6 11  8  4  4  7  6  5 10  7\n",
      "  5  8 10  4  5 11  9  8  7  5 11  7  7  4  7  6 10  8 10  5  7  6  6  6\n",
      " 11  9  7  9  7  7  2  8  6  5 10 12 10  4  5  7  4  6  6  9  4  6  3  8\n",
      " 11  3  8  6 11  6  5  7  5  7  4  7  8  6  7  2  7  5  2 10  7  4 10  8\n",
      " 10  9  5  4  6  2  6  9  4  9 10  5  9  7  7 11  6  9  6  6  7  6  5  7\n",
      "  7 11  7 10  5  5  3  9 12  7  5  5  7  5 11  4 11  3  8  6  4  5  2  6\n",
      "  7  6  7 10  6  8  8  3 10  9 11  8  5  9  8  4  9  7  3  5  5  8 10  6\n",
      "  8  4  8  9  6 11  7  6  7  9  8  5  5  4  4  9  9 12  7  7  3  8  5  8\n",
      "  6  5  9  6  5  8  9  6  7  7  9  7  7  4 12  6  9  6  6  8  7  8  4  9\n",
      "  9  3 10 11  7  8  5  7  5  3 10  9  5  5  7 10  6  6  6  5 11  4  8  9\n",
      "  8  8  4  8  6 11  3  9  9  7  9  6  6  3  5  3  9 10  2  8  5  7  7  4\n",
      " 11  7  9 11  7  9  6  6 10  7  5  4  9  6  9  3  2  8  8  6  7 10  6  9\n",
      "  2  5  4 11  9  4  6  7  9  4  3  9 10  6  9 10  7  5 10  5  5  7  8  8\n",
      " 10  5  9  6 12 10  7  3 10  7 10  8  6  8  8  4  6  7  3  7  4  5 12  3\n",
      "  5  8  9  8  8  3 10  8  8  6  6  6 10  8  5  6  5 11  7  5 10  7  5  6\n",
      "  7  9  6  8 11  8  8  7  2  6 10  4  7 11  7  8  5  8  7 10  3  6  6 11\n",
      "  6  6  7 10  6 11  6  7  9  7  9  8  6  8  7  9  9  4  9  7  7  8  2  8\n",
      "  6  8  8  7  7  5  5 10  9  5 11  7  5  8  6  9 11  4  6  8  5  3 10  2\n",
      "  4  3  7  4  6  9  7  6  4  2  2  7  4 12  8  5  6  4  4  6 10  3 10  6\n",
      "  6  8  5  8  3  5  7  6  7  7 12  6  7  8  6 12  5  9 10  9  7  3  8  7\n",
      " 12  9  9  9 10  4  7 10  8  8 10  6  5  6  9  7  5  3  9  7  5 11  7 10\n",
      "  6  6 11  3  6  9  2  6  3  6  8  4  5  9 11  8  3  3 10  6  8  7  5  5\n",
      "  3  4  5  4 10  8 12 10  9  9  7 10  8  5  7  4  7  9  7  6  3  3 10  8\n",
      "  4  8  7  5  7  5  4 11  3  8  4  4  9  5  9  7  7  7  7  5  5  7  5 11\n",
      "  3  8  7  9  9  6  3  2  6  9  8 10 11  6  6  7  8  6  6  5 10  5  5 10\n",
      "  7  5  8  8  7  9 12  9 11  7 11  7  7 11  6  8  8  3  8  4 10  4 10  6\n",
      "  9  6  6  5  9  3  5  5  8 10  6  5  5  6 10  5  5  5  6 11  5  8  3  4\n",
      "  6  6  7 11 11  7  7  8  9  9  9  6  6  9  8  3  6 10  7  4  7  9  5 10\n",
      "  3  9  4  7  6  7  4  5  4  8 10  5 11  6  7 11  9 10  5  9 11  3  4  6\n",
      "  7  3  8  6  8 10  6  4 11  3 11  7  7  5  5 12  9  4  7  7  9 12  4  8\n",
      "  8 10  6  4  7  8  8 12 10  7  3 11  4  6  2  5  9  8  4  7  5  7  7  6\n",
      "  9  8  4  7  9 10  6  9 10  7  5  9  6  9  9  9  5  9  6  5  4 11  6 11\n",
      "  6  8  5  8  7  6 12  8  5  9  5  6  7  5  7 10  3  7  5  4  7  3  6 11\n",
      "  5  6 11  7  8  5  9 10  4 12  4  4  6  6  7  3]\n"
     ]
    }
   ],
   "source": [
    "# Com este print podemos visualizar a variável criada\n",
    "\n",
    "print(arr_1000)"
   ]
  },
  {
   "cell_type": "markdown",
   "metadata": {},
   "source": [
    "**Desafio 3 Análise de Dados**\n",
    "Agora, vamos analisar os resultados desses jogos. Calcule e imprima o seguinte:\n",
    "- A média dos resultados.\n",
    "- O lançamento máximo e mínimo.\n",
    "- O número de vezes que cada possível lançamento (2, 3, 4, 5, 6, 7, 8, 9, 10, 11 e 12) ocorreu.\n",
    "- Teste de Hipótese: Agora vamos fazer um pouco de teste de hipóteses:\n",
    "  - Supondo um jogo justo (ou seja, todos os lançamentos são igualmente prováveis), o resultado da sua simulação coincide com essa suposição? Por que sim ou por que não?\n",
    "  - O que isso significa para um jogador do jogo de dados?"
   ]
  },
  {
   "cell_type": "code",
   "execution_count": 53,
   "metadata": {},
   "outputs": [
    {
     "data": {
      "text/plain": [
       "{'Media das somas': 6.99,\n",
       " 'Máximo': 12,\n",
       " 'Mínimo': 2,\n",
       " 'Analise de cada lançamento': {2: '24 vezes',\n",
       "  3: '53 vezes',\n",
       "  4: '85 vezes',\n",
       "  5: '125 vezes',\n",
       "  6: '141 vezes',\n",
       "  7: '162 vezes',\n",
       "  8: '128 vezes',\n",
       "  9: '115 vezes',\n",
       "  10: '83 vezes',\n",
       "  11: '59 vezes',\n",
       "  12: '25 vezes'}}"
      ]
     },
     "execution_count": 53,
     "metadata": {},
     "output_type": "execute_result"
    }
   ],
   "source": [
    "# Analisando os dados\n",
    "Média = np.mean(arr_1000)\n",
    "Máximo = np.max(arr_1000)\n",
    "Mínimo = np.min(arr_1000)\n",
    "dict_analise = {}\n",
    "for i in range(2, 13):\n",
    "    x = np.count_nonzero(arr_1000 == i)\n",
    "    dict_analise[i] = f'{x} vezes'\n",
    "\n",
    "# Salvando os dados em um dicionário para visualização\n",
    "dict_data = {'Media das somas' : Média,\n",
    "            'Máximo' : Máximo,\n",
    "            'Mínimo' : Mínimo, \n",
    "            'Analise de cada lançamento' : dict_analise}\n",
    "\n",
    "dict_data"
   ]
  },
  {
   "cell_type": "code",
   "execution_count": 59,
   "metadata": {},
   "outputs": [
    {
     "name": "stdout",
     "output_type": "stream",
     "text": [
      "{'Analise de cada lançamento': {2: '24 vezes',\n",
      "                                3: '53 vezes',\n",
      "                                4: '85 vezes',\n",
      "                                5: '125 vezes',\n",
      "                                6: '141 vezes',\n",
      "                                7: '162 vezes',\n",
      "                                8: '128 vezes',\n",
      "                                9: '115 vezes',\n",
      "                                10: '83 vezes',\n",
      "                                11: '59 vezes',\n",
      "                                12: '25 vezes'},\n",
      " 'Media das somas': 6.99,\n",
      " 'Máximo': 12,\n",
      " 'Mínimo': 2}\n"
     ]
    }
   ],
   "source": [
    "### PRINTANDO O DICIONÁRIO DOS RESULTADOS DA ANÁLISE\n",
    "import pprint\n",
    "pprint.pprint(dict_data)"
   ]
  },
  {
   "cell_type": "markdown",
   "metadata": {},
   "source": [
    "## TESTE DE HIPÓTESES\n",
    "\n",
    "- Em um jogo justo todos os jogos são iguais, isto é todas os lançamentos são igualmente prováveis de acontecer;\n",
    "- O que vimos acontecer no Print acima REJEITA a suposição acima, isto é, as probabilidades de resultado corresponderam à hipótese de um jogo justo;\n",
    "- Para um jogador de dados, isto significa que ele está sujeito à aleatoriedade dentro de um jogo, isto ocorre porque a cada lançamento a probabilidade de determinado resultado acontecer será a mesma (1/6), e cada lançamento é independente.\n"
   ]
  }
 ],
 "metadata": {
  "kernelspec": {
   "display_name": "base",
   "language": "python",
   "name": "python3"
  },
  "language_info": {
   "codemirror_mode": {
    "name": "ipython",
    "version": 3
   },
   "file_extension": ".py",
   "mimetype": "text/x-python",
   "name": "python",
   "nbconvert_exporter": "python",
   "pygments_lexer": "ipython3",
   "version": "3.10.9"
  },
  "orig_nbformat": 4
 },
 "nbformat": 4,
 "nbformat_minor": 2
}
